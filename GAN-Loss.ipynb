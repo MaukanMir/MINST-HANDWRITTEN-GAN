{
 "cells": [
  {
   "cell_type": "markdown",
   "metadata": {},
   "source": [
    "# GAN Loss"
   ]
  },
  {
   "cell_type": "markdown",
   "metadata": {},
   "source": [
    "## How to Use Different GAN Loss Functions"
   ]
  },
  {
   "cell_type": "markdown",
   "metadata": {},
   "source": [
    "### Discriminator Model"
   ]
  },
  {
   "cell_type": "code",
   "execution_count": null,
   "metadata": {},
   "outputs": [],
   "source": [
    "# define the standalone discriminator model\n",
    "def define_discriminator(in_shape=(28,28,1)):\n",
    "  # weight initialization\n",
    "  init = RandomNormal(stddev=0.02)\n",
    "  # define model\n",
    "  model = Sequential()\n",
    "  # downsample to 14x14\n",
    "  model.add(Conv2D(64, (4,4), strides=(2,2), padding='same', kernel_initializer=init, input_shape=in_shape))\n",
    "  model.add(BatchNormalization())\n",
    "  model.add(LeakyReLU(alpha=0.2))\n",
    "  # downsample to 7x7\n",
    "  model.add(Conv2D(128, (4,4), strides=(2,2), padding='same', kernel_initializer=init)) \n",
    "  model.add(BatchNormalization())\n",
    "  model.add(LeakyReLU(alpha=0.2))\n",
    "  # classifier\n",
    "  model.add(Flatten())\n",
    "  model.add(Dense(1, activation='linear', kernel_initializer=init)) # compile model with L2 loss\n",
    "  model.compile(loss='mse', optimizer=Adam(lr=0.0002, beta_1=0.5)) \n",
    "  return model"
   ]
  },
  {
   "cell_type": "markdown",
   "metadata": {},
   "source": [
    "### Generator Model"
   ]
  },
  {
   "cell_type": "code",
   "execution_count": null,
   "metadata": {},
   "outputs": [],
   "source": [
    "# define the standalone generator model\n",
    "def define_generator(latent_dim):\n",
    "  # weight initialization\n",
    "  init = RandomNormal(stddev=0.02)\n",
    "  # define model\n",
    "  model = Sequential()\n",
    "  # foundation for 7x7 image\n",
    "  n_nodes = 256 * 7 * 7\n",
    "  model.add(Dense(n_nodes, kernel_initializer=init, input_dim=latent_dim)) \n",
    "  model.add(BatchNormalization())\n",
    "  model.add(Activation('relu'))\n",
    "  model.add(Reshape((7, 7, 256)))\n",
    "  # upsample to 14x14\n",
    "  model.add(Conv2DTranspose(128, (4,4), strides=(2,2), padding='same', kernel_initializer=init))\n",
    "  model.add(BatchNormalization())\n",
    "  model.add(Activation('relu'))\n",
    "  # upsample to 28x28\n",
    "  model.add(Conv2DTranspose(64, (4,4), strides=(2,2), padding='same',\n",
    "  kernel_initializer=init))\n",
    "  model.add(BatchNormalization())\n",
    "  model.add(Activation('relu'))\n",
    "  # output 28x28x1\n",
    "  model.add(Conv2D(1, (7,7), padding='same', kernel_initializer=init)) \n",
    "  model.add(Activation('tanh'))\n",
    "  return model"
   ]
  }
 ],
 "metadata": {
  "kernelspec": {
   "display_name": "machine-learning-env",
   "language": "python",
   "name": "python3"
  },
  "language_info": {
   "name": "python",
   "version": "3.8.15"
  }
 },
 "nbformat": 4,
 "nbformat_minor": 2
}
