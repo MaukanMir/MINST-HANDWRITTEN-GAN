{
 "cells": [
  {
   "cell_type": "markdown",
   "metadata": {},
   "source": [
    "# GAN Evaluation"
   ]
  },
  {
   "cell_type": "markdown",
   "metadata": {},
   "source": [
    "## How to Evaluate Generative Adversarial Networks (Chapter 11)"
   ]
  },
  {
   "cell_type": "markdown",
   "metadata": {},
   "source": [
    "## What Is the Inception Score?"
   ]
  },
  {
   "cell_type": "markdown",
   "metadata": {},
   "source": [
    "### The Inception Score, or IS for short, is an objective metric for evaluating the quality of generated images, specifically synthetic images output by generative adversarial network models."
   ]
  },
  {
   "cell_type": "code",
   "execution_count": 1,
   "metadata": {},
   "outputs": [
    {
     "name": "stdout",
     "output_type": "stream",
     "text": [
      "2.999999999999999\n"
     ]
    }
   ],
   "source": [
    "# calculate inception score in numpy\n",
    "from numpy import asarray\n",
    "from numpy import expand_dims\n",
    "from numpy import log\n",
    "from numpy import mean\n",
    "from numpy import exp\n",
    "# calculate the inception score for p(y|x)\n",
    "def calculate_inception_score(p_yx, eps=1E-16):\n",
    "  # calculate p(y)\n",
    "  p_y = expand_dims(p_yx.mean(axis=0), 0)\n",
    "  # kl divergence for each image\n",
    "  kl_d = p_yx * (log(p_yx + eps) - log(p_y + eps))\n",
    "  # sum over classes\n",
    "  sum_kl_d = kl_d.sum(axis=1)\n",
    "  # average over images\n",
    "  avg_kl_d = mean(sum_kl_d)\n",
    "  # undo the logs\n",
    "  is_score = exp(avg_kl_d)\n",
    "  return is_score\n",
    "# conditional probabilities for high quality images\n",
    "p_yx = asarray([[1.0, 0.0, 0.0], [0.0, 1.0, 0.0], [0.0, 0.0, 1.0]])\n",
    "score = calculate_inception_score(p_yx)\n",
    "print(score)\n"
   ]
  },
  {
   "cell_type": "code",
   "execution_count": 2,
   "metadata": {},
   "outputs": [
    {
     "name": "stdout",
     "output_type": "stream",
     "text": [
      "1.0\n"
     ]
    }
   ],
   "source": [
    "# calculate inception score in numpy\n",
    "from numpy import asarray\n",
    "from numpy import expand_dims\n",
    "from numpy import log\n",
    "from numpy import mean\n",
    "from numpy import exp\n",
    "# calculate the inception score for p(y|x)\n",
    "def calculate_inception_score(p_yx, eps=1E-16):\n",
    "  # calculate p(y)\n",
    "  p_y = expand_dims(p_yx.mean(axis=0), 0)\n",
    "  # kl divergence for each image\n",
    "  kl_d = p_yx * (log(p_yx + eps) - log(p_y + eps))\n",
    "  # sum over classes\n",
    "  sum_kl_d = kl_d.sum(axis=1)\n",
    "  # average over images\n",
    "  avg_kl_d = mean(sum_kl_d)\n",
    "  # undo the logs\n",
    "  is_score = exp(avg_kl_d)\n",
    "  return is_score\n",
    "# conditional probabilities for low quality images\n",
    "p_yx = asarray([[0.33, 0.33, 0.33], [0.33, 0.33, 0.33], [0.33, 0.33, 0.33]])\n",
    "score = calculate_inception_score(p_yx)\n",
    "print(score)"
   ]
  },
  {
   "cell_type": "markdown",
   "metadata": {},
   "source": [
    "## How to Implement the Inception Score With Keras"
   ]
  },
  {
   "cell_type": "code",
   "execution_count": 3,
   "metadata": {},
   "outputs": [
    {
     "name": "stdout",
     "output_type": "stream",
     "text": [
      "loaded (50, 299, 299, 3)\n",
      "Downloading data from https://storage.googleapis.com/tensorflow/keras-applications/inception_v3/inception_v3_weights_tf_dim_ordering_tf_kernels.h5\n",
      "96112376/96112376 [==============================] - 3s 0us/step\n"
     ]
    },
    {
     "name": "stderr",
     "output_type": "stream",
     "text": [
      "2024-04-01 20:35:41.768087: W tensorflow/core/platform/profile_utils/cpu_utils.cc:128] Failed to get CPU frequency: 0 Hz\n"
     ]
    },
    {
     "name": "stdout",
     "output_type": "stream",
     "text": [
      "2/2 [==============================] - 3s 757ms/step\n",
      "score 1.0 0.0\n"
     ]
    }
   ],
   "source": [
    "\n",
    "# calculate inception score with Keras\n",
    "from math import floor\n",
    "from numpy import ones\n",
    "from numpy import expand_dims\n",
    "from numpy import log\n",
    "from numpy import mean\n",
    "from numpy import std\n",
    "from numpy import exp\n",
    "from keras.applications.inception_v3 import InceptionV3\n",
    "from keras.applications.inception_v3 import preprocess_input\n",
    "# assumes images have the shape 299x299x3, pixels in [0,255]\n",
    "def calculate_inception_score(images, n_split=10, eps=1E-16):\n",
    "  # load inception v3 model\n",
    "  model = InceptionV3()\n",
    "  # convert from uint8 to float32\n",
    "  processed = images.astype('float32')\n",
    "  # pre-process raw images for inception v3 model processed = preprocess_input(processed)\n",
    "  # predict class probabilities for images\n",
    "  yhat = model.predict(processed)\n",
    "  # enumerate splits of images/predictions\n",
    "  scores = list()\n",
    "  n_part = floor(images.shape[0] / n_split)\n",
    "  for i in range(n_split):\n",
    "      # retrieve p(y|x)\n",
    "      ix_start, ix_end = i * n_part, i * n_part + n_part\n",
    "      p_yx = yhat[ix_start:ix_end]\n",
    "      # calculate p(y)\n",
    "      p_y = expand_dims(p_yx.mean(axis=0), 0)\n",
    "      # calculate KL divergence using log probabilities\n",
    "      kl_d = p_yx * (log(p_yx + eps) - log(p_y + eps))\n",
    "      # sum over classes\n",
    "      sum_kl_d = kl_d.sum(axis=1)\n",
    "      # average over images\n",
    "      avg_kl_d = mean(sum_kl_d)\n",
    "      # undo the log\n",
    "      is_score = exp(avg_kl_d)\n",
    "      # store\n",
    "      scores.append(is_score)\n",
    "      # average across images\n",
    "      is_avg, is_std = mean(scores), std(scores)\n",
    "  return is_avg, is_std\n",
    "\n",
    "\n",
    "# pretend to load images\n",
    "images = ones((50, 299, 299, 3))\n",
    "print('loaded', images.shape)\n",
    "# calculate inception score\n",
    "is_avg, is_std = calculate_inception_score(images) \n",
    "print('score', is_avg, is_std)"
   ]
  },
  {
   "cell_type": "code",
   "execution_count": null,
   "metadata": {},
   "outputs": [],
   "source": [
    "\n",
    "# calculate inception score for cifar-10 in Keras\n",
    "from math import floor\n",
    "from numpy import expand_dims\n",
    "from numpy import log\n",
    "from numpy import mean\n",
    "from numpy import std\n",
    "from numpy import exp\n",
    "from numpy.random import shuffle\n",
    "from keras.applications.inception_v3 import InceptionV3\n",
    "from keras.applications.inception_v3 import preprocess_input\n",
    "from keras.datasets import cifar10\n",
    "from skimage.transform import resize\n",
    "from numpy import asarray\n",
    "\n",
    "# scale an array of images to a new size\n",
    "def scale_images(images, new_shape):\n",
    "  images_list = list()\n",
    "  for image in images:\n",
    "    # resize with nearest neighbor interpolation\n",
    "    new_image = resize(image, new_shape, 0)\n",
    "# store\n",
    "    images_list.append(new_image)\n",
    "  return asarray(images_list)\n",
    "\n",
    "# assumes images have any shape and pixels in [0,255]\n",
    "def calculate_inception_score(images, n_split=10, eps=1E-16):\n",
    "  # load inception v3 model\n",
    "  model = InceptionV3()\n",
    "  # enumerate splits of images/predictions\n",
    "  scores = list()\n",
    "  n_part = floor(images.shape[0] / n_split)\n",
    "  for i in range(n_split):\n",
    "    # retrieve images\n",
    "    ix_start, ix_end = i * n_part, (i+1) * n_part \n",
    "    subset = images[ix_start:ix_end]\n",
    "    # convert from uint8 to float32\n",
    "    subset = subset.astype('float32')\n",
    "    # scale images to the required size\n",
    "    subset = scale_images(subset, (299,299,3))\n",
    "    # pre-process images, scale to [-1,1]\n",
    "    subset = preprocess_input(subset)\n",
    "    # predict p(y|x)\n",
    "    p_yx = model.predict(subset)\n",
    "    # calculate p(y)\n",
    "    p_y = expand_dims(p_yx.mean(axis=0), 0)\n",
    "    # calculate KL divergence using log probabilities\n",
    "    kl_d = p_yx * (log(p_yx + eps) - log(p_y + eps))\n",
    "    # sum over classes\n",
    "    sum_kl_d = kl_d.sum(axis=1)\n",
    "    # average over images\n",
    "    avg_kl_d = mean(sum_kl_d)\n",
    "    # undo the log\n",
    "    is_score = exp(avg_kl_d)\n",
    "    # store\n",
    "    scores.append(is_score)\n",
    "  # average across images\n",
    "  is_avg, is_std = mean(scores), std(scores)\n",
    "  return is_avg, is_std\n",
    "# load cifar10 images\n",
    "(images, _), (_, _) = cifar10.load_data()\n",
    "# shuffle images\n",
    "shuffle(images)\n",
    "print('loaded', images.shape)\n",
    "# calculate inception score\n",
    "is_avg, is_std = calculate_inception_score(images) \n",
    "print('score', is_avg, is_std)"
   ]
  },
  {
   "cell_type": "markdown",
   "metadata": {},
   "source": [
    "## How to Implement the Frechet Inception Distance"
   ]
  },
  {
   "cell_type": "markdown",
   "metadata": {},
   "source": [
    "### The Frechet Inception Distance score, or FID for short, is a metric that calculates the distance between feature vectors calculated for real and generated images. The score summarizes how similar the two groups are in terms of statistics on computer vision features of the raw images calculated using the inception v3 model used for image classification. Lower scores indicate the two groups of images are more similar, or have more similar statistics, with a perfect score being 0.0 indicating that the two groups of images are identical."
   ]
  },
  {
   "cell_type": "code",
   "execution_count": 4,
   "metadata": {},
   "outputs": [
    {
     "name": "stdout",
     "output_type": "stream",
     "text": [
      "FID (same): -0.000\n",
      "FID (different): 354.591\n"
     ]
    }
   ],
   "source": [
    "# example of calculating the frechet inception distance\n",
    "import numpy\n",
    "from numpy import cov\n",
    "from numpy import trace\n",
    "from numpy import iscomplexobj\n",
    "from numpy.random import random\n",
    "from scipy.linalg import sqrtm\n",
    "# calculate frechet inception distance\n",
    "def calculate_fid(act1, act2):\n",
    "  # calculate mean and covariance statistics\n",
    "  mu1, sigma1 = act1.mean(axis=0), cov(act1, rowvar=False)\n",
    "  mu2, sigma2 = act2.mean(axis=0), cov(act2, rowvar=False)\n",
    "  # calculate sum squared difference between means\n",
    "  ssdiff = numpy.sum((mu1 - mu2)**2.0)\n",
    "  # calculate sqrt of product between cov\n",
    "  covmean = sqrtm(sigma1.dot(sigma2))\n",
    "  # check and correct imaginary numbers from sqrt\n",
    "  if iscomplexobj(covmean):\n",
    "    covmean = covmean.real\n",
    "  # calculate score\n",
    "  fid = ssdiff + trace(sigma1 + sigma2 - 2.0 * covmean)\n",
    "  return fid\n",
    "# define two collections of activations\n",
    "act1 = random(10*2048)\n",
    "act1 = act1.reshape((10,2048))\n",
    "act2 = random(10*2048)\n",
    "act2 = act2.reshape((10,2048))\n",
    "# fid between act1 and act1\n",
    "fid = calculate_fid(act1, act1)\n",
    "\n",
    "print('FID (same): %.3f' % fid)\n",
    "# fid between act1 and act2\n",
    "fid = calculate_fid(act1, act2) \n",
    "print('FID (different): %.3f' % fid)"
   ]
  },
  {
   "cell_type": "code",
   "execution_count": null,
   "metadata": {},
   "outputs": [],
   "source": [
    "\n",
    "# calculate frechet inception distance\n",
    "def calculate_fid(model, images1, images2):\n",
    "  # calculate activations\n",
    "  act1 = model.predict(images1)\n",
    "  act2 = model.predict(images2)\n",
    "  # calculate mean and covariance statistics\n",
    "  mu1, sigma1 = act1.mean(axis=0), cov(act1, rowvar=False)\n",
    "  mu2, sigma2 = act2.mean(axis=0), cov(act2, rowvar=False)\n",
    "  # calculate sum squared difference between means\n",
    "  ssdiff = numpy.sum((mu1 - mu2)**2.0)\n",
    "  # calculate sqrt of product between cov\n",
    "  covmean = sqrtm(sigma1.dot(sigma2))\n",
    "  # check and correct imaginary numbers from sqrt\n",
    "  if iscomplexobj(covmean):\n",
    "    covmean = covmean.real\n",
    "  # calculate score\n",
    "  fid = ssdiff + trace(sigma1 + sigma2 - 2.0 * covmean)\n",
    "  return fid"
   ]
  }
 ],
 "metadata": {
  "kernelspec": {
   "display_name": "machine-learning-env",
   "language": "python",
   "name": "python3"
  },
  "language_info": {
   "codemirror_mode": {
    "name": "ipython",
    "version": 3
   },
   "file_extension": ".py",
   "mimetype": "text/x-python",
   "name": "python",
   "nbconvert_exporter": "python",
   "pygments_lexer": "ipython3",
   "version": "3.8.15"
  }
 },
 "nbformat": 4,
 "nbformat_minor": 2
}
