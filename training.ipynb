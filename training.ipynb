{
 "cells": [
  {
   "cell_type": "markdown",
   "metadata": {},
   "source": [
    "## Complete Example of GAN for CIFAR-10"
   ]
  },
  {
   "cell_type": "code",
   "execution_count": null,
   "metadata": {},
   "outputs": [],
   "source": [
    "# example of a dcgan on cifar10\n",
    "from numpy import zeros\n",
    "from numpy import ones\n",
    "from numpy.random import randn\n",
    "from numpy.random import randint\n",
    "from keras.datasets.cifar10 import load_data\n",
    "from keras.optimizers import Adam\n",
    "from keras.models import Sequential\n",
    "from keras.layers import Dense\n",
    "from keras.layers import Reshape\n",
    "from keras.layers import Flatten\n",
    "from keras.layers import Conv2D\n",
    "from keras.layers import Conv2DTranspose\n",
    "from keras.layers import LeakyReLU\n",
    "from keras.layers import Dropout\n",
    "from matplotlib import pyplot\n",
    "# define the standalone discriminator model\n",
    "def define_discriminator(in_shape=(32,32,3)):\n",
    "  model = Sequential()\n",
    "  # normal\n",
    "  model.add(Conv2D(64, (3,3), padding='same', input_shape=in_shape)) \n",
    "  model.add(LeakyReLU(alpha=0.2))\n",
    "  # downsample\n",
    "  model.add(Conv2D(128, (3,3), strides=(2,2), padding='same')) \n",
    "  model.add(LeakyReLU(alpha=0.2))\n",
    "  # downsample\n",
    "  model.add(Conv2D(128, (3,3), strides=(2,2), padding='same')) \n",
    "  model.add(LeakyReLU(alpha=0.2))\n",
    "  # downsample\n",
    "  model.add(Conv2D(256, (3,3), strides=(2,2), padding='same')) \n",
    "  model.add(LeakyReLU(alpha=0.2))\n",
    "  # classifier\n",
    "  model.add(Flatten())\n",
    "  model.add(Dropout(0.4))\n",
    "  model.add(Dense(1, activation='sigmoid'))\n",
    "  # compile model\n",
    "  opt = Adam(lr=0.0002, beta_1=0.5)\n",
    "  model.compile(loss='binary_crossentropy', optimizer=opt, metrics=['accuracy']) \n",
    "  return model\n",
    "\n",
    "# define the standalone generator model\n",
    "def define_generator(latent_dim):\n",
    "  model = Sequential()\n",
    "  # foundation for 4x4 image\n",
    "  n_nodes = 256 * 4 * 4\n",
    "  \n",
    "  model.add(Dense(n_nodes, input_dim=latent_dim)) \n",
    "  model.add(LeakyReLU(alpha=0.2))\n",
    "  model.add(Reshape((4, 4, 256)))\n",
    "  # upsample to 8x8\n",
    "  model.add(Conv2DTranspose(128, (4,4), strides=(2,2), padding='same')) \n",
    "  model.add(LeakyReLU(alpha=0.2))\n",
    "    # upsample to 16x16\n",
    "  model.add(Conv2DTranspose(128, (4,4), strides=(2,2), padding='same')) \n",
    "  model.add(LeakyReLU(alpha=0.2))\n",
    "  # upsample to 32x32\n",
    "  model.add(Conv2DTranspose(128, (4,4), strides=(2,2), padding='same')) \n",
    "  model.add(LeakyReLU(alpha=0.2))\n",
    "    # output layer\n",
    "  model.add(Conv2D(3, (3,3), activation='tanh', padding='same')) \n",
    "  return model\n",
    "\n",
    "# define the combined generator and discriminator model, for updating the generator\n",
    "def define_gan(g_model, d_model):\n",
    "  # make weights in the discriminator not trainable \n",
    "  d_model.trainable = False\n",
    "  # connect them\n",
    "  model = Sequential()\n",
    "  # add generator\n",
    "  model.add(g_model)\n",
    "  # add the discriminator\n",
    "  model.add(d_model)\n",
    "  # compile model\n",
    "  opt = Adam(lr=0.0002, beta_1=0.5) \n",
    "  model.compile(loss='binary_crossentropy', optimizer=opt) \n",
    "  return model\n",
    "\n",
    "# load and prepare cifar10 training images\n",
    "def load_real_samples():\n",
    "  # load cifar10 dataset\n",
    "  (trainX, _), (_, _) = load_data()\n",
    "  # convert from unsigned ints to floats \n",
    "  X = trainX.astype('float32')\n",
    "  # scale from [0,255] to [-1,1]\n",
    "  X = (X - 127.5) / 127.5\n",
    "  return X\n",
    "\n",
    "# select real samples\n",
    "def generate_real_samples(dataset, n_samples):\n",
    "  # choose random instances\n",
    "  ix = randint(0, dataset.shape[0], n_samples)\n",
    "  # retrieve selected images\n",
    "  X = dataset[ix]\n",
    "  # generate ✬real✬ class labels (1) \n",
    "  y = ones((n_samples, 1))\n",
    "  return X, y\n",
    "\n",
    "# generate points in latent space as input for the generator\n",
    "def generate_latent_points(latent_dim, n_samples):\n",
    "  # generate points in the latent space\n",
    "  x_input = randn(latent_dim * n_samples)\n",
    "  # reshape into a batch of inputs for the network\n",
    "  x_input = x_input.reshape(n_samples, latent_dim)\n",
    "  return x_input\n",
    "\n",
    "\n",
    "# use the generator to generate n fake examples, with class labels\n",
    "def generate_fake_samples(g_model, latent_dim, n_samples):\n",
    "  # generate points in latent space\n",
    "  x_input = generate_latent_points(latent_dim, n_samples)\n",
    "  # predict outputs\n",
    "  X = g_model.predict(x_input)\n",
    "  # create ✬fake✬ class labels (0) \n",
    "  y = zeros((n_samples, 1))\n",
    "  return X, y\n",
    "\n",
    "\n",
    "# create and save a plot of generated images\n",
    "def save_plot(examples, epoch, n=7):\n",
    "  # scale from [-1,1] to [0,1]\n",
    "  examples = (examples + 1) / 2.0\n",
    "  # plot images\n",
    "  for i in range(n * n):\n",
    "  # define subplot pyplot.subplot(n, n, 1 + i) # turn off axis pyplot.axis(✬off✬)\n",
    "      # plot raw pixel data\n",
    "      pyplot.imshow(examples[i])\n",
    "  # save plot to file\n",
    "  filename = 'generated_plot_e%03d.png' % (epoch+1) \n",
    "  pyplot.savefig(filename)\n",
    "  pyplot.close()\n",
    "\n",
    "\n",
    "def summarize_performance(epoch, g_model, d_model, dataset, latent_dim, n_samples=150):\n",
    "  # prepare real samples\n",
    "  X_real, y_real = generate_real_samples(dataset, n_samples)\n",
    "  # evaluate discriminator on real examples\n",
    "  _, acc_real = d_model.evaluate(X_real, y_real, verbose=0)\n",
    "  # prepare fake examples\n",
    "  x_fake, y_fake = generate_fake_samples(g_model, latent_dim, n_samples)\n",
    "  # evaluate discriminator on fake examples\n",
    "  _, acc_fake = d_model.evaluate(x_fake, y_fake, verbose=0)\n",
    "  # summarize discriminator performance\n",
    "  print('>Accuracy real: %.0f%%, fake: %.0f%%' % (acc_real*100, acc_fake*100)) # save plot\n",
    "  save_plot(x_fake, epoch)\n",
    "  # save the generator model tile file\n",
    "  filename = 'generator_model_%03d.h5' % (epoch+1) \n",
    "  g_model.save(filename)\n",
    "\n",
    "  # train the generator and discriminator\n",
    "def train(g_model, d_model, gan_model, dataset, latent_dim, n_epochs=200, n_batch=128):\n",
    "  bat_per_epo = int(dataset.shape[0] / n_batch)\n",
    "  half_batch = int(n_batch / 2)\n",
    "  # manually enumerate epochs\n",
    "  for i in range(n_epochs):\n",
    "    # enumerate batches over the training set\n",
    "    for j in range(bat_per_epo):\n",
    "      # get randomly selected ✬real✬ samples\n",
    "      X_real, y_real = generate_real_samples(dataset, half_batch)\n",
    "      # update discriminator model weights\n",
    "      d_loss1, _ = d_model.train_on_batch(X_real, y_real)\n",
    "      # generate ✬fake✬ examples\n",
    "      X_fake, y_fake = generate_fake_samples(g_model, latent_dim, half_batch) # update discriminator model weights\n",
    "      d_loss2, _ = d_model.train_on_batch(X_fake, y_fake)\n",
    "      # prepare points in latent space as input for the generator\n",
    "      X_gan = generate_latent_points(latent_dim, n_batch)\n",
    "      # create inverted labels for the fake samples\n",
    "      y_gan = ones((n_batch, 1))\n",
    "      # update the generator via the discriminator✬s error\n",
    "      g_loss = gan_model.train_on_batch(X_gan, y_gan)\n",
    "      # summarize loss on this batch\n",
    "      print('>%d, %d/%d, d1=%.3f, d2=%.3f g=%.3f' %\n",
    "            (i+1, j+1, bat_per_epo, d_loss1, d_loss2, g_loss))\n",
    "     # evaluate the model performance, sometimes\n",
    "    if (i+1) % 10 == 0:\n",
    "     summarize_performance(i, g_model, d_model, dataset, latent_dim)\n",
    "\n",
    "\n",
    "# size of the latent space\n",
    "latent_dim = 100\n",
    "# create the discriminator\n",
    "d_model = define_discriminator()\n",
    "# create the generator\n",
    "g_model = define_generator(latent_dim)\n",
    "# create the gan\n",
    "gan_model = define_gan(g_model, d_model)\n",
    "# load image data\n",
    "dataset = load_real_samples()\n",
    "# train model\n",
    "train(g_model, d_model, gan_model, dataset, latent_dim)"
   ]
  },
  {
   "cell_type": "markdown",
   "metadata": {},
   "source": [
    "### How to Develop a GAN for CelebA"
   ]
  },
  {
   "cell_type": "markdown",
   "metadata": {},
   "source": [
    "#### Discriminator"
   ]
  },
  {
   "cell_type": "code",
   "execution_count": null,
   "metadata": {},
   "outputs": [],
   "source": [
    "\n",
    "# define the standalone discriminator model\n",
    "def define_discriminator(in_shape=(80,80,3)):\n",
    "  model = Sequential()\n",
    "  # normal\n",
    "  model.add(Conv2D(128, (5,5), padding='same', input_shape=in_shape)) \n",
    "  model.add(LeakyReLU(alpha=0.2))\n",
    "    # downsample to 40x40\n",
    "  model.add(Conv2D(128, (5,5), strides=(2,2), padding='same')) \n",
    "  model.add(LeakyReLU(alpha=0.2))\n",
    "  # downsample to 20x30\n",
    "  model.add(Conv2D(128, (5,5), strides=(2,2), padding='same')) \n",
    "  model.add(LeakyReLU(alpha=0.2))\n",
    "    # downsample to 10x10\n",
    "  model.add(Conv2D(128, (5,5), strides=(2,2), padding='same')) \n",
    "  model.add(LeakyReLU(alpha=0.2))\n",
    "  # downsample to 5x5\n",
    "  model.add(Conv2D(128, (5,5), strides=(2,2), padding='same')) \n",
    "  model.add(LeakyReLU(alpha=0.2))\n",
    "  # classifier\n",
    "  model.add(Flatten())\n",
    "  model.add(Dropout(0.4))\n",
    "  model.add(Dense(1, activation='sigmoid'))\n",
    "  # compile model\n",
    "  opt = Adam(lr=0.0002, beta_1=0.5)\n",
    "  model.compile(loss='binary_crossentropy', optimizer=opt, metrics=['accuracy']) \n",
    "  return model"
   ]
  },
  {
   "cell_type": "markdown",
   "metadata": {},
   "source": [
    "#### Generator"
   ]
  },
  {
   "cell_type": "code",
   "execution_count": null,
   "metadata": {},
   "outputs": [],
   "source": [
    "# define the standalone generator model\n",
    "def define_generator(latent_dim):\n",
    "  model = Sequential()\n",
    "  # foundation for 5x5 feature maps\n",
    "  n_nodes = 128 * 5 * 5\n",
    "  model.add(Dense(n_nodes, input_dim=latent_dim)) \n",
    "  model.add(LeakyReLU(alpha=0.2))\n",
    "  model.add(Reshape((5, 5, 128)))\n",
    "  # upsample to 10x10\n",
    "  model.add(Conv2DTranspose(128, (4,4), strides=(2,2), padding='same')) \n",
    "  model.add(LeakyReLU(alpha=0.2))\n",
    "  # upsample to 20x20\n",
    "  model.add(Conv2DTranspose(128, (4,4), strides=(2,2), padding='same')) \n",
    "  model.add(LeakyReLU(alpha=0.2))\n",
    "  # upsample to 40x40\n",
    "  model.add(Conv2DTranspose(128, (4,4), strides=(2,2), padding='same')) \n",
    "  model.add(LeakyReLU(alpha=0.2))\n",
    "  # upsample to 80x80\n",
    "  model.add(Conv2DTranspose(128, (4,4), strides=(2,2), padding='same')) \n",
    "  model.add(LeakyReLU(alpha=0.2))\n",
    "  # output layer 80x80x3\n",
    "  model.add(Conv2D(3, (5,5), activation='tanh', padding='same'))\n",
    "  return model"
   ]
  },
  {
   "cell_type": "markdown",
   "metadata": {},
   "source": [
    "#### Combining both Models"
   ]
  },
  {
   "cell_type": "code",
   "execution_count": null,
   "metadata": {},
   "outputs": [],
   "source": [
    "\n",
    "# define the combined generator and discriminator model, for updating the generator\n",
    "def define_gan(g_model, d_model):\n",
    "  # make weights in the discriminator not trainable \n",
    "  d_model.trainable = False\n",
    "  # connect them\n",
    "  model = Sequential()\n",
    "  # add generator\n",
    "  model.add(g_model)\n",
    "  # add the discriminator\n",
    "  model.add(d_model)\n",
    "  # compile model\n",
    "  opt = Adam(lr=0.0002, beta_1=0.5) \n",
    "  model.compile(loss='binary_crossentropy', optimizer=opt) \n",
    "  return model"
   ]
  },
  {
   "cell_type": "markdown",
   "metadata": {},
   "source": [
    "#### You will usually have a training loop where you:\n",
    "#### First, train the discriminator with real data (setting it as trainable).\n",
    "#### Then, train the discriminator with generated (fake) data (still trainable).\n",
    "#### Finally, train the combined model to update the generator (setting discriminator as non-trainable)."
   ]
  },
  {
   "cell_type": "markdown",
   "metadata": {},
   "source": [
    "##### Load Data"
   ]
  },
  {
   "cell_type": "code",
   "execution_count": null,
   "metadata": {},
   "outputs": [],
   "source": [
    "# load and prepare training images\n",
    "def load_real_samples():\n",
    "  # load the face dataset\n",
    "  data = load('img_align_celeba.npz')\n",
    "  X = data['arr_0']\n",
    "  # convert from unsigned ints to floats \n",
    "  X = X.astype('float32')\n",
    "  # scale from [0,255] to [-1,1]\n",
    "  X = (X - 127.5) / 127.5\n",
    "  return X"
   ]
  },
  {
   "cell_type": "markdown",
   "metadata": {},
   "source": [
    "##### Select Real Samples"
   ]
  },
  {
   "cell_type": "code",
   "execution_count": null,
   "metadata": {},
   "outputs": [],
   "source": [
    "# select real samples\n",
    "def generate_real_samples(dataset, n_samples):\n",
    "  # choose random instances\n",
    "  ix = randint(0, dataset.shape[0], n_samples)\n",
    "  # retrieve selected images\n",
    "  X = dataset[ix]\n",
    "  # generate ✬real✬ class labels (1)\n",
    "  y = ones((n_samples, 1))\n",
    "  return X, y"
   ]
  },
  {
   "cell_type": "markdown",
   "metadata": {},
   "source": [
    "##### Generate points in latent space as input for the generator"
   ]
  },
  {
   "cell_type": "code",
   "execution_count": null,
   "metadata": {},
   "outputs": [],
   "source": [
    "# generate points in latent space as input for the generator\n",
    "def generate_latent_points(latent_dim, n_samples):\n",
    "  # generate points in the latent space\n",
    "  x_input = randn(latent_dim * n_samples)\n",
    "  # reshape into a batch of inputs for the network\n",
    "  x_input = x_input.reshape(n_samples, latent_dim)\n",
    "  return x_input"
   ]
  },
  {
   "cell_type": "markdown",
   "metadata": {},
   "source": [
    "##### Use the generator to generate n fake examples, with class labels\n"
   ]
  },
  {
   "cell_type": "code",
   "execution_count": null,
   "metadata": {},
   "outputs": [],
   "source": [
    "# use the generator to generate n fake examples, with class labels\n",
    "def generate_fake_samples(g_model, latent_dim, n_samples):\n",
    "  # generate points in latent space\n",
    "  x_input = generate_latent_points(latent_dim, n_samples)\n",
    "  # predict outputs\n",
    "  X = g_model.predict(x_input)\n",
    "  # create ✬fake✬ class labels (0) \n",
    "  y = zeros((n_samples, 1))\n",
    "  return X, y"
   ]
  },
  {
   "cell_type": "markdown",
   "metadata": {},
   "source": [
    "##### Train the generator and discriminator"
   ]
  },
  {
   "cell_type": "code",
   "execution_count": null,
   "metadata": {},
   "outputs": [],
   "source": [
    "# train the generator and discriminator\n",
    "def train(g_model, d_model, gan_model, dataset, latent_dim, n_epochs=100, n_batch=128):\n",
    "  bat_per_epo = int(dataset.shape[0] / n_batch)\n",
    "  half_batch = int(n_batch / 2)\n",
    "  # manually enumerate epochs\n",
    "  for i in range(n_epochs):\n",
    "    # enumerate batches over the training set\n",
    "    for j in range(bat_per_epo):\n",
    "      # get randomly selected ✬real✬ samples\n",
    "      X_real, y_real = generate_real_samples(dataset, half_batch)\n",
    "      # update discriminator model weights\n",
    "      d_loss1, _ = d_model.train_on_batch(X_real, y_real)\n",
    "      # generate ✬fake✬ examples\n",
    "      X_fake, y_fake = generate_fake_samples(g_model, latent_dim, half_batch) # update discriminator model weights\n",
    "      d_loss2, _ = d_model.train_on_batch(X_fake, y_fake)\n",
    "      # prepare points in latent space as input for the generator\n",
    "      X_gan = generate_latent_points(latent_dim, n_batch)\n",
    "      # create inverted labels for the fake samples\n",
    "      y_gan = ones((n_batch, 1))\n",
    "      # update the generator via the discriminator✬s error\n",
    "      g_loss = gan_model.train_on_batch(X_gan, y_gan)\n",
    "      # summarize loss on this batch\n",
    "      print('>%d, %d/%d, d1=%.3f, d2=%.3f g=%.3f' %\n",
    "            (i+1, j+1, bat_per_epo, d_loss1, d_loss2, g_loss))\n",
    "    # evaluate the model performance, sometimes\n",
    "    \n",
    "    if (i+1) % 10 == 0:\n",
    "     summarize_performance(i, g_model, d_model, dataset, latent_dim)"
   ]
  },
  {
   "cell_type": "markdown",
   "metadata": {},
   "source": [
    "##### Summarize Performance"
   ]
  },
  {
   "cell_type": "code",
   "execution_count": null,
   "metadata": {},
   "outputs": [],
   "source": [
    "# create and save a plot of generated images\n",
    "def save_plot(examples, epoch, n=10):\n",
    "  # scale from [-1,1] to [0,1]\n",
    "  examples = (examples + 1) / 2.0\n",
    "  # plot images\n",
    "  for i in range(n * n):\n",
    "  # define subplot \n",
    "    pyplot.subplot(n, n, 1 + i) # turn off axis pyplot.axis(✬off✬)\n",
    "      # plot raw pixel data\n",
    "    pyplot.imshow(examples[i])\n",
    "  # save plot to file\n",
    "  filename = 'generated_plot_e%03d.png' % (epoch+1) \n",
    "  pyplot.savefig(filename)\n",
    "  pyplot.close()\n",
    "\n",
    "\n",
    "# evaluate the discriminator, plot generated images, save generator model\n",
    "def summarize_performance(epoch, g_model, d_model, dataset, latent_dim, n_samples=100):\n",
    "  # prepare real samples\n",
    "  X_real, y_real = generate_real_samples(dataset, n_samples)\n",
    "  # evaluate discriminator on real examples\n",
    "  _, acc_real = d_model.evaluate(X_real, y_real, verbose=0)\n",
    "  # prepare fake examples\n",
    "  x_fake, y_fake = generate_fake_samples(g_model, latent_dim, n_samples)\n",
    "  # evaluate discriminator on fake examples\n",
    "  _, acc_fake = d_model.evaluate(x_fake, y_fake, verbose=0)\n",
    "  # summarize discriminator performance\n",
    "  print('>Accuracy real: %.0f%%, fake: %.0f%%'% (acc_real*100, acc_fake*100)) # save plot\n",
    "  save_plot(x_fake, epoch)\n",
    "  # save the generator model tile file\n",
    "  filename = 'generator_model_%03d.h5' % (epoch+1) \n",
    "  g_model.save(filename)"
   ]
  },
  {
   "cell_type": "markdown",
   "metadata": {},
   "source": [
    "#### Imports"
   ]
  },
  {
   "cell_type": "code",
   "execution_count": null,
   "metadata": {},
   "outputs": [],
   "source": [
    "# example of a gan for generating faces\n",
    "from numpy import load\n",
    "from numpy import zeros\n",
    "from numpy import ones\n",
    "from numpy.random import randn\n",
    "from numpy.random import randint\n",
    "from keras.optimizers import Adam\n",
    "from keras.models import Sequential\n",
    "from keras.layers import Dense\n",
    "from keras.layers import Reshape\n",
    "from keras.layers import Flatten\n",
    "from keras.layers import Conv2D\n",
    "from keras.layers import Conv2DTranspose\n",
    "from keras.layers import LeakyReLU\n",
    "from keras.layers import Dropout\n",
    "from matplotlib import pyplot"
   ]
  },
  {
   "cell_type": "markdown",
   "metadata": {},
   "source": [
    "#### Calling Functions"
   ]
  },
  {
   "cell_type": "code",
   "execution_count": null,
   "metadata": {},
   "outputs": [],
   "source": [
    "\n",
    "# size of the latent space\n",
    "latent_dim = 100\n",
    "# create the discriminator\n",
    "d_model = define_discriminator()\n",
    "# create the generator\n",
    "g_model = define_generator(latent_dim)\n",
    "# create the gan\n",
    "gan_model = define_gan(g_model, d_model)\n",
    "# load image data\n",
    "dataset = load_real_samples()\n",
    "# train model\n",
    "train(g_model, d_model, gan_model, dataset, latent_dim)"
   ]
  },
  {
   "cell_type": "markdown",
   "metadata": {},
   "source": [
    "##  How to Explore the Latent Space for Generated Faces"
   ]
  },
  {
   "cell_type": "markdown",
   "metadata": {},
   "source": [
    "#### Generate Latent points"
   ]
  },
  {
   "cell_type": "code",
   "execution_count": null,
   "metadata": {},
   "outputs": [],
   "source": [
    "# generate points in latent space as input for the generator\n",
    "def generate_latent_points(latent_dim, n_samples):\n",
    "  # generate points in the latent space\n",
    "  x_input = randn(latent_dim * n_samples)\n",
    "  # reshape into a batch of inputs for the network\n",
    "  z_input = x_input.reshape(n_samples, latent_dim)\n",
    "  return z_input\n"
   ]
  },
  {
   "cell_type": "markdown",
   "metadata": {},
   "source": [
    "#### Interpolation between two points in latent space"
   ]
  },
  {
   "cell_type": "code",
   "execution_count": null,
   "metadata": {},
   "outputs": [],
   "source": [
    "# uniform interpolation between two points in latent space\n",
    "from numpy import asfarray, linspace\n",
    "\n",
    "\n",
    "def interpolate_points(p1, p2, n_steps=10):\n",
    "  # interpolate ratios between the points\n",
    "  ratios = linspace(0, 1, num=n_steps)\n",
    "  # linear interpolate vectors\n",
    "  vectors = list()\n",
    "  for ratio in ratios:\n",
    "    v = (1.0 - ratio) * p1 + ratio * p2\n",
    "    vectors.append(v)\n",
    "  return asfarray(vectors)"
   ]
  },
  {
   "cell_type": "markdown",
   "metadata": {},
   "source": [
    "#### Example"
   ]
  },
  {
   "cell_type": "code",
   "execution_count": null,
   "metadata": {},
   "outputs": [],
   "source": [
    "from keras.models import load_model\n",
    "# load model\n",
    "model = load_model('generator_model_030.h5')\n",
    "# generate points in latent space\n",
    "pts = generate_latent_points(100, 2)\n",
    "# interpolate points in latent space\n",
    "interpolated = interpolate_points(pts[0], pts[1]) # generate images\n",
    "X = model.predict(interpolated)\n",
    "# scale from [-1,1] to [0,1]\n",
    "X = (X + 1) / 2.0"
   ]
  },
  {
   "cell_type": "markdown",
   "metadata": {},
   "source": [
    "#### Running the example calculates the interpolation path between the two points in latent space, generates images for each, and plots the result."
   ]
  },
  {
   "cell_type": "markdown",
   "metadata": {},
   "source": [
    "#### Imports"
   ]
  },
  {
   "cell_type": "code",
   "execution_count": null,
   "metadata": {},
   "outputs": [],
   "source": [
    "# example of interpolating between generated faces\n",
    "from numpy import asarray\n",
    "from numpy import vstack\n",
    "from numpy.random import randn\n",
    "from numpy import arccos\n",
    "from numpy import clip\n",
    "from numpy import dot\n",
    "from numpy import sin\n",
    "from numpy import linspace\n",
    "from numpy.linalg import norm\n",
    "from keras.models import load_model\n",
    "from matplotlib import pyplot"
   ]
  },
  {
   "cell_type": "markdown",
   "metadata": {},
   "source": [
    "#### Slerp Method for spherical linear interpolation"
   ]
  },
  {
   "cell_type": "code",
   "execution_count": null,
   "metadata": {},
   "outputs": [],
   "source": [
    "# spherical linear interpolation (slerp)\n",
    "def slerp(val, low, high):\n",
    "  omega = arccos(clip(dot(low/norm(low), high/norm(high)), -1, 1))\n",
    "  so = sin(omega)\n",
    "  if so == 0:\n",
    "# L✬Hopital✬s rule/LERP\n",
    "    return (1.0-val) * low + val * high\n",
    "  return sin((1.0-val)*omega) / so * low + sin(val*omega) / so * high"
   ]
  },
  {
   "cell_type": "markdown",
   "metadata": {},
   "source": [
    "##### Interpolate points update"
   ]
  },
  {
   "cell_type": "code",
   "execution_count": null,
   "metadata": {},
   "outputs": [],
   "source": [
    "def interpolate_points(p1, p2, n_steps=10):\n",
    "  # interpolate ratios between the points\n",
    "  ratios = linspace(0, 1, num=n_steps)\n",
    "  # linear interpolate vectors\n",
    "  vectors = list()\n",
    "  for ratio in ratios:\n",
    "    v = slerp(ratio, p1, p2)\n",
    "    vectors.append(v)\n",
    "  return asarray(vectors)"
   ]
  },
  {
   "cell_type": "markdown",
   "metadata": {},
   "source": [
    "## How to Identify and Diagnose GAN Failure Modes"
   ]
  },
  {
   "cell_type": "markdown",
   "metadata": {},
   "source": [
    "### How To Train a Stable GAN"
   ]
  },
  {
   "cell_type": "markdown",
   "metadata": {},
   "source": [
    "##### Define the standalone discriminator model"
   ]
  },
  {
   "cell_type": "code",
   "execution_count": null,
   "metadata": {},
   "outputs": [],
   "source": [
    "# define the standalone discriminator model\n",
    "def define_discriminator(in_shape=(28,28,1)):\n",
    "  # weight initialization\n",
    "  init = RandomNormal(stddev=0.02)\n",
    "  # define model\n",
    "  model = Sequential()\n",
    "  # downsample to 14x14\n",
    "  model.add(Conv2D(64, (4,4), strides=(2,2), padding='same', kernel_initializer=init, input_shape=in_shape))\n",
    "  model.add(BatchNormalization())\n",
    "  model.add(LeakyReLU(alpha=0.2))\n",
    "  # downsample to 7x7\n",
    "  model.add(Conv2D(64, (4,4), strides=(2,2), padding='same', kernel_initializer=init)) \n",
    "  model.add(BatchNormalization())\n",
    "  model.add(LeakyReLU(alpha=0.2))\n",
    "  # classifier\n",
    "  model.add(Flatten())\n",
    "  model.add(Dense(1, activation='sigmoid'))\n",
    "  # compile model\n",
    "  opt = Adam(lr=0.0002, beta_1=0.5)\n",
    "  model.compile(loss='binary_crossentropy', optimizer=opt, metrics=['accuracy']) \n",
    "  return model"
   ]
  },
  {
   "cell_type": "markdown",
   "metadata": {},
   "source": [
    "##### Define Generator"
   ]
  },
  {
   "cell_type": "code",
   "execution_count": null,
   "metadata": {},
   "outputs": [],
   "source": [
    "# define the standalone generator model\n",
    "def define_generator(latent_dim):\n",
    "  # weight initialization\n",
    "  init = RandomNormal(stddev=0.02)\n",
    "  # define model\n",
    "  model = Sequential()\n",
    "  # foundation for 7x7 image\n",
    "  n_nodes = 128 * 7 * 7\n",
    "  model.add(Dense(n_nodes, kernel_initializer=init, input_dim=latent_dim)) \n",
    "  model.add(LeakyReLU(alpha=0.2))\n",
    "  model.add(Reshape((7, 7, 128)))\n",
    "  # upsample to 14x14\n",
    "  model.add(Conv2DTranspose(128, (4,4), strides=(2,2), padding='same',kernel_initializer=init))\n",
    "  model.add(BatchNormalization())\n",
    "  model.add(LeakyReLU(alpha=0.2))\n",
    "  # upsample to 28x28\n",
    "  model.add(Conv2DTranspose(128, (4,4), strides=(2,2), padding='same',kernel_initializer=init))\n",
    "  model.add(BatchNormalization())\n",
    "  model.add(LeakyReLU(alpha=0.2))\n",
    "  # output 28x28x1\n",
    "  model.add(Conv2D(1, (7,7), activation='tanh', padding='same', kernel_initializer=init)) \n",
    "  return model\n"
   ]
  },
  {
   "cell_type": "markdown",
   "metadata": {},
   "source": [
    "#### Create GAN Model"
   ]
  },
  {
   "cell_type": "code",
   "execution_count": null,
   "metadata": {},
   "outputs": [],
   "source": [
    "\n",
    "# define the combined generator and discriminator model, for updating the generator\n",
    "def define_gan(generator, discriminator):\n",
    "  # make weights in the discriminator not trainable\n",
    "  discriminator.trainable = False\n",
    "  # connect them\n",
    "  model = Sequential()\n",
    "  # add generator\n",
    "  model.add(generator)\n",
    "  # add the discriminator\n",
    "  model.add(discriminator)\n",
    "  # compile model\n",
    "  opt = Adam(lr=0.0002, beta_1=0.5) \n",
    "  model.compile(loss='binary_crossentropy', optimizer=opt) \n",
    "  return model"
   ]
  },
  {
   "cell_type": "markdown",
   "metadata": {},
   "source": [
    "#### Load Minst images"
   ]
  },
  {
   "cell_type": "code",
   "execution_count": null,
   "metadata": {},
   "outputs": [],
   "source": [
    "\n",
    "# load mnist images\n",
    "def load_real_samples():\n",
    "  # load dataset\n",
    "  (trainX, trainy), (_, _) = load_data()\n",
    "  # expand to 3d, e.g. add channels\n",
    "  X = expand_dims(trainX, axis=-1)\n",
    "  # select all of the examples for a given class \n",
    "  selected_ix = trainy == 8\n",
    "  X = X[selected_ix]\n",
    "  # convert from ints to floats\n",
    "  X = X.astype('float32')\n",
    "  # scale from [0,255] to [-1,1]\n",
    "  X = (X - 127.5) / 127.5\n",
    "  return X\n"
   ]
  },
  {
   "cell_type": "markdown",
   "metadata": {},
   "source": [
    "#### Generate real samples"
   ]
  },
  {
   "cell_type": "code",
   "execution_count": null,
   "metadata": {},
   "outputs": [],
   "source": [
    "# select real samples\n",
    "def generate_real_samples(dataset, n_samples):\n",
    "  # choose random instances\n",
    "  ix = randint(0, dataset.shape[0], n_samples)\n",
    "  # select images\n",
    "  X = dataset[ix]\n",
    "  # generate class labels\n",
    "  y = ones((n_samples, 1))\n",
    "  return X, y"
   ]
  },
  {
   "cell_type": "markdown",
   "metadata": {},
   "source": []
  }
 ],
 "metadata": {
  "kernelspec": {
   "display_name": "machine-learning-env",
   "language": "python",
   "name": "python3"
  },
  "language_info": {
   "codemirror_mode": {
    "name": "ipython",
    "version": 3
   },
   "file_extension": ".py",
   "mimetype": "text/x-python",
   "name": "python",
   "nbconvert_exporter": "python",
   "pygments_lexer": "ipython3",
   "version": "3.8.15"
  }
 },
 "nbformat": 4,
 "nbformat_minor": 2
}
